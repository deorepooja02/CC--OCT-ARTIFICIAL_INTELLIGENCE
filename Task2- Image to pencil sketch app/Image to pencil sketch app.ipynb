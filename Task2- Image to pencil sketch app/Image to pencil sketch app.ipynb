{
 "cells": [
  {
   "cell_type": "markdown",
   "id": "f399cd47",
   "metadata": {},
   "source": [
    "Image To Pencil Sketch App"
   ]
  },
  {
   "cell_type": "code",
   "execution_count": null,
   "id": "0c2a815e",
   "metadata": {},
   "outputs": [],
   "source": [
    "## Main logic \n",
    "\n",
    "sketch_gray, sketch_color = cv2.pencilSketch(House.jpeg, sigma_s=60, sigma_r=0.07, shade_factor=0.05)\n",
    "\n",
    "\n",
    "stylize = cv2.stylization(House.jpeg, sigma_s=60, sigma_r=0.07)"
   ]
  },
  {
   "cell_type": "code",
   "execution_count": 3,
   "id": "131e57c8",
   "metadata": {},
   "outputs": [
    {
     "data": {
      "text/plain": [
       "-1"
      ]
     },
     "execution_count": 3,
     "metadata": {},
     "output_type": "execute_result"
    }
   ],
   "source": [
    "import cv2\n",
    "\n",
    "image = cv2.imread(\"House.jpeg\")\n",
    "cv2.imshow(\"Image\", image)\n",
    "cv2.waitKey(0)\n",
    "gray_image = cv2.cvtColor(image, cv2.COLOR_BGR2GRAY)\n",
    "cv2.imshow(\"New Image\", gray_image)\n",
    "cv2.waitKey(0)\n",
    "inverted_image = 255 - gray_image\n",
    "cv2.imshow(\"Inverted Image\", inverted_image)\n",
    "cv2.waitKey()\n",
    "blurred = cv2.GaussianBlur(inverted_image, (21, 21), 0)\n",
    "inverted_blurred = 255 - blurred\n",
    "pencil_sketch = cv2.divide(gray_image, inverted_blurred, scale=256.0)\n",
    "cv2.imshow(\"Sketch\", pencil_sketch)\n",
    "cv2.waitKey(0)\n",
    "cv2.imshow(\"pencil sketch\", pencil_sketch)\n",
    "cv2.waitKey(0)\n"
   ]
  },
  {
   "cell_type": "code",
   "execution_count": null,
   "id": "4a07ef4e",
   "metadata": {},
   "outputs": [],
   "source": []
  }
 ],
 "metadata": {
  "kernelspec": {
   "display_name": "Python 3 (ipykernel)",
   "language": "python",
   "name": "python3"
  },
  "language_info": {
   "codemirror_mode": {
    "name": "ipython",
    "version": 3
   },
   "file_extension": ".py",
   "mimetype": "text/x-python",
   "name": "python",
   "nbconvert_exporter": "python",
   "pygments_lexer": "ipython3",
   "version": "3.9.7"
  }
 },
 "nbformat": 4,
 "nbformat_minor": 5
}
